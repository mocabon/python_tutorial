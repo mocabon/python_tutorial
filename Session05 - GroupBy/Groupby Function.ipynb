{
 "cells": [
  {
   "cell_type": "markdown",
   "metadata": {},
   "source": [
    "### 3. 그룹바이 심화"
   ]
  },
  {
   "cell_type": "markdown",
   "metadata": {},
   "source": [
    "### 3-1. 일반 접근방식"
   ]
  },
  {
   "cell_type": "code",
   "execution_count": 42,
   "metadata": {},
   "outputs": [
    {
     "data": {
      "text/html": [
       "<div>\n",
       "<style scoped>\n",
       "    .dataframe tbody tr th:only-of-type {\n",
       "        vertical-align: middle;\n",
       "    }\n",
       "\n",
       "    .dataframe tbody tr th {\n",
       "        vertical-align: top;\n",
       "    }\n",
       "\n",
       "    .dataframe thead th {\n",
       "        text-align: right;\n",
       "    }\n",
       "</style>\n",
       "<table border=\"1\" class=\"dataframe\">\n",
       "  <thead>\n",
       "    <tr style=\"text-align: right;\">\n",
       "      <th></th>\n",
       "      <th>regionid</th>\n",
       "      <th>productgroup</th>\n",
       "      <th>yearweek</th>\n",
       "      <th>volume</th>\n",
       "      <th>ma</th>\n",
       "    </tr>\n",
       "  </thead>\n",
       "  <tbody>\n",
       "    <tr>\n",
       "      <th>0</th>\n",
       "      <td>A01</td>\n",
       "      <td>ST0001</td>\n",
       "      <td>201401</td>\n",
       "      <td>513598</td>\n",
       "      <td>513598.000000</td>\n",
       "    </tr>\n",
       "    <tr>\n",
       "      <th>1</th>\n",
       "      <td>A01</td>\n",
       "      <td>ST0001</td>\n",
       "      <td>201402</td>\n",
       "      <td>438251</td>\n",
       "      <td>475924.500000</td>\n",
       "    </tr>\n",
       "    <tr>\n",
       "      <th>2</th>\n",
       "      <td>A01</td>\n",
       "      <td>ST0001</td>\n",
       "      <td>201403</td>\n",
       "      <td>420290</td>\n",
       "      <td>457379.666667</td>\n",
       "    </tr>\n",
       "    <tr>\n",
       "      <th>3</th>\n",
       "      <td>A01</td>\n",
       "      <td>ST0001</td>\n",
       "      <td>201404</td>\n",
       "      <td>458431</td>\n",
       "      <td>457642.500000</td>\n",
       "    </tr>\n",
       "    <tr>\n",
       "      <th>4</th>\n",
       "      <td>A01</td>\n",
       "      <td>ST0001</td>\n",
       "      <td>201405</td>\n",
       "      <td>482381</td>\n",
       "      <td>462590.200000</td>\n",
       "    </tr>\n",
       "  </tbody>\n",
       "</table>\n",
       "</div>"
      ],
      "text/plain": [
       "  regionid productgroup  yearweek  volume             ma\n",
       "0      A01       ST0001    201401  513598  513598.000000\n",
       "1      A01       ST0001    201402  438251  475924.500000\n",
       "2      A01       ST0001    201403  420290  457379.666667\n",
       "3      A01       ST0001    201404  458431  457642.500000\n",
       "4      A01       ST0001    201405  482381  462590.200000"
      ]
     },
     "execution_count": 42,
     "metadata": {},
     "output_type": "execute_result"
    }
   ],
   "source": [
    "import pandas as pd\n",
    "\n",
    "selloutData = pd.read_csv(\"../dataset/kopo_product_volume.csv\")\n",
    "selloutData.head()\n",
    "\n",
    "selloutData.columns = selloutData.columns.str.lower()\n",
    "\n",
    "sortedData = selloutData.sort_values([\"regionid\",\"productgroup\",\"yearweek\"])\n",
    "sortedData.reset_index(inplace=True, drop=True)\n",
    "sortedData.head()\n",
    "\n",
    "sortedData[\"ma\"] = sortedData[\"volume\"].rolling(window=17, center=False, min_periods=1).mean()\n",
    "sortedData.head()"
   ]
  },
  {
   "cell_type": "code",
   "execution_count": 40,
   "metadata": {
    "collapsed": true
   },
   "outputs": [],
   "source": [
    "sortedData.to_csv(\"./group_test.csv\")"
   ]
  },
  {
   "cell_type": "markdown",
   "metadata": {},
   "source": [
    "### 3-2. 고급접근 방식"
   ]
  },
  {
   "cell_type": "code",
   "execution_count": 68,
   "metadata": {
    "scrolled": true
   },
   "outputs": [
    {
     "data": {
      "text/html": [
       "<div>\n",
       "<style scoped>\n",
       "    .dataframe tbody tr th:only-of-type {\n",
       "        vertical-align: middle;\n",
       "    }\n",
       "\n",
       "    .dataframe tbody tr th {\n",
       "        vertical-align: top;\n",
       "    }\n",
       "\n",
       "    .dataframe thead th {\n",
       "        text-align: right;\n",
       "    }\n",
       "</style>\n",
       "<table border=\"1\" class=\"dataframe\">\n",
       "  <thead>\n",
       "    <tr style=\"text-align: right;\">\n",
       "      <th></th>\n",
       "      <th>regionid</th>\n",
       "      <th>productgroup</th>\n",
       "      <th>avg_volume</th>\n",
       "    </tr>\n",
       "  </thead>\n",
       "  <tbody>\n",
       "    <tr>\n",
       "      <th>0</th>\n",
       "      <td>A01</td>\n",
       "      <td>ST0001</td>\n",
       "      <td>672850.421053</td>\n",
       "    </tr>\n",
       "    <tr>\n",
       "      <th>1</th>\n",
       "      <td>A01</td>\n",
       "      <td>ST0002</td>\n",
       "      <td>189489.924242</td>\n",
       "    </tr>\n",
       "  </tbody>\n",
       "</table>\n",
       "</div>"
      ],
      "text/plain": [
       "  regionid productgroup     avg_volume\n",
       "0      A01       ST0001  672850.421053\n",
       "1      A01       ST0002  189489.924242"
      ]
     },
     "execution_count": 68,
     "metadata": {},
     "output_type": "execute_result"
    }
   ],
   "source": [
    "import pandas as pd\n",
    "\n",
    "selloutData = pd.read_csv(\"../dataset/kopo_product_volume.csv\")\n",
    "selloutData.head()\n",
    "\n",
    "selloutData.columns = selloutData.columns.str.lower()\n",
    "\n",
    "sortedData = selloutData.sort_values([\"regionid\",\"productgroup\",\"yearweek\"])\n",
    "sortedData.reset_index(inplace=True, drop=True)\n",
    "sortedData.head()\n",
    "\n",
    "groupResult = sortedData.groupby([\"regionid\",\"productgroup\"])[\"volume\"].mean()\n",
    "groupResult = groupResult.reset_index()\n",
    "groupResult.rename(columns={'volume': 'avg_volume'}, inplace=True)\n",
    "groupResult.head(2)"
   ]
  },
  {
   "cell_type": "code",
   "execution_count": 69,
   "metadata": {},
   "outputs": [
    {
     "data": {
      "text/html": [
       "<div>\n",
       "<style scoped>\n",
       "    .dataframe tbody tr th:only-of-type {\n",
       "        vertical-align: middle;\n",
       "    }\n",
       "\n",
       "    .dataframe tbody tr th {\n",
       "        vertical-align: top;\n",
       "    }\n",
       "\n",
       "    .dataframe thead th {\n",
       "        text-align: right;\n",
       "    }\n",
       "</style>\n",
       "<table border=\"1\" class=\"dataframe\">\n",
       "  <thead>\n",
       "    <tr style=\"text-align: right;\">\n",
       "      <th></th>\n",
       "      <th>regionid</th>\n",
       "      <th>productgroup</th>\n",
       "      <th>yearweek</th>\n",
       "      <th>volume</th>\n",
       "      <th>avg_volume</th>\n",
       "    </tr>\n",
       "  </thead>\n",
       "  <tbody>\n",
       "    <tr>\n",
       "      <th>0</th>\n",
       "      <td>A01</td>\n",
       "      <td>ST0001</td>\n",
       "      <td>201401</td>\n",
       "      <td>513598</td>\n",
       "      <td>672850.421053</td>\n",
       "    </tr>\n",
       "    <tr>\n",
       "      <th>1</th>\n",
       "      <td>A01</td>\n",
       "      <td>ST0001</td>\n",
       "      <td>201402</td>\n",
       "      <td>438251</td>\n",
       "      <td>672850.421053</td>\n",
       "    </tr>\n",
       "    <tr>\n",
       "      <th>2</th>\n",
       "      <td>A01</td>\n",
       "      <td>ST0001</td>\n",
       "      <td>201403</td>\n",
       "      <td>420290</td>\n",
       "      <td>672850.421053</td>\n",
       "    </tr>\n",
       "    <tr>\n",
       "      <th>3</th>\n",
       "      <td>A01</td>\n",
       "      <td>ST0001</td>\n",
       "      <td>201404</td>\n",
       "      <td>458431</td>\n",
       "      <td>672850.421053</td>\n",
       "    </tr>\n",
       "    <tr>\n",
       "      <th>4</th>\n",
       "      <td>A01</td>\n",
       "      <td>ST0001</td>\n",
       "      <td>201405</td>\n",
       "      <td>482381</td>\n",
       "      <td>672850.421053</td>\n",
       "    </tr>\n",
       "  </tbody>\n",
       "</table>\n",
       "</div>"
      ],
      "text/plain": [
       "  regionid productgroup  yearweek  volume     avg_volume\n",
       "0      A01       ST0001    201401  513598  672850.421053\n",
       "1      A01       ST0001    201402  438251  672850.421053\n",
       "2      A01       ST0001    201403  420290  672850.421053\n",
       "3      A01       ST0001    201404  458431  672850.421053\n",
       "4      A01       ST0001    201405  482381  672850.421053"
      ]
     },
     "execution_count": 69,
     "metadata": {},
     "output_type": "execute_result"
    }
   ],
   "source": [
    "finalResult = sortedData.merge(groupResult, how=\"left\", \n",
    "                 on = [\"regionid\",\"productgroup\"])\n",
    "finalResult.head()"
   ]
  },
  {
   "cell_type": "code",
   "execution_count": 95,
   "metadata": {
    "collapsed": true
   },
   "outputs": [],
   "source": [
    "finalResult.to_csv(\"./groupResult.csv\")"
   ]
  },
  {
   "cell_type": "markdown",
   "metadata": {},
   "source": [
    "### 3-3 고급 그룹바이 함수 정의"
   ]
  },
  {
   "cell_type": "code",
   "execution_count": 73,
   "metadata": {
    "collapsed": true
   },
   "outputs": [],
   "source": [
    "def sub_function(data):\n",
    "    data[\"ma\"] = data[\"volume\"].rolling(window = 5, center = True, min_periods=1).mean()\n",
    "    return data"
   ]
  },
  {
   "cell_type": "code",
   "execution_count": 77,
   "metadata": {},
   "outputs": [
    {
     "data": {
      "text/html": [
       "<div>\n",
       "<style scoped>\n",
       "    .dataframe tbody tr th:only-of-type {\n",
       "        vertical-align: middle;\n",
       "    }\n",
       "\n",
       "    .dataframe tbody tr th {\n",
       "        vertical-align: top;\n",
       "    }\n",
       "\n",
       "    .dataframe thead th {\n",
       "        text-align: right;\n",
       "    }\n",
       "</style>\n",
       "<table border=\"1\" class=\"dataframe\">\n",
       "  <thead>\n",
       "    <tr style=\"text-align: right;\">\n",
       "      <th></th>\n",
       "      <th>regionid</th>\n",
       "      <th>productgroup</th>\n",
       "      <th>yearweek</th>\n",
       "      <th>volume</th>\n",
       "      <th>ma</th>\n",
       "    </tr>\n",
       "  </thead>\n",
       "  <tbody>\n",
       "    <tr>\n",
       "      <th>0</th>\n",
       "      <td>A01</td>\n",
       "      <td>ST0001</td>\n",
       "      <td>201401</td>\n",
       "      <td>513598</td>\n",
       "      <td>457379.666667</td>\n",
       "    </tr>\n",
       "    <tr>\n",
       "      <th>1</th>\n",
       "      <td>A01</td>\n",
       "      <td>ST0001</td>\n",
       "      <td>201402</td>\n",
       "      <td>438251</td>\n",
       "      <td>457642.500000</td>\n",
       "    </tr>\n",
       "    <tr>\n",
       "      <th>2</th>\n",
       "      <td>A01</td>\n",
       "      <td>ST0001</td>\n",
       "      <td>201403</td>\n",
       "      <td>420290</td>\n",
       "      <td>462590.200000</td>\n",
       "    </tr>\n",
       "  </tbody>\n",
       "</table>\n",
       "</div>"
      ],
      "text/plain": [
       "  regionid productgroup  yearweek  volume             ma\n",
       "0      A01       ST0001    201401  513598  457379.666667\n",
       "1      A01       ST0001    201402  438251  457642.500000\n",
       "2      A01       ST0001    201403  420290  462590.200000"
      ]
     },
     "execution_count": 77,
     "metadata": {},
     "output_type": "execute_result"
    }
   ],
   "source": [
    "import pandas as pd\n",
    "\n",
    "selloutData = pd.read_csv(\"../dataset/kopo_product_volume.csv\")\n",
    "selloutData.head()\n",
    "\n",
    "selloutData.columns = selloutData.columns.str.lower()\n",
    "\n",
    "sortedData = selloutData.sort_values([\"regionid\",\"productgroup\",\"yearweek\"])\n",
    "sortedData.reset_index(inplace=True, drop=True)\n",
    "sortedData.head()\n",
    "\n",
    "finalGroupResult = sortedData.groupby([\"regionid\",\"productgroup\"]).apply(sub_function)\n",
    "finalGroupResult.head(3)"
   ]
  },
  {
   "cell_type": "code",
   "execution_count": 80,
   "metadata": {},
   "outputs": [
    {
     "data": {
      "text/html": [
       "<div>\n",
       "<style scoped>\n",
       "    .dataframe tbody tr th:only-of-type {\n",
       "        vertical-align: middle;\n",
       "    }\n",
       "\n",
       "    .dataframe tbody tr th {\n",
       "        vertical-align: top;\n",
       "    }\n",
       "\n",
       "    .dataframe thead th {\n",
       "        text-align: right;\n",
       "    }\n",
       "</style>\n",
       "<table border=\"1\" class=\"dataframe\">\n",
       "  <thead>\n",
       "    <tr style=\"text-align: right;\">\n",
       "      <th></th>\n",
       "      <th>regionid</th>\n",
       "      <th>productgroup</th>\n",
       "      <th>yearweek</th>\n",
       "      <th>volume</th>\n",
       "      <th>ma</th>\n",
       "      <th>year</th>\n",
       "    </tr>\n",
       "  </thead>\n",
       "  <tbody>\n",
       "    <tr>\n",
       "      <th>0</th>\n",
       "      <td>A01</td>\n",
       "      <td>ST0001</td>\n",
       "      <td>201401</td>\n",
       "      <td>513598</td>\n",
       "      <td>457379.666667</td>\n",
       "      <td>2014</td>\n",
       "    </tr>\n",
       "    <tr>\n",
       "      <th>1</th>\n",
       "      <td>A01</td>\n",
       "      <td>ST0001</td>\n",
       "      <td>201402</td>\n",
       "      <td>438251</td>\n",
       "      <td>457642.500000</td>\n",
       "      <td>2014</td>\n",
       "    </tr>\n",
       "  </tbody>\n",
       "</table>\n",
       "</div>"
      ],
      "text/plain": [
       "  regionid productgroup  yearweek  volume             ma  year\n",
       "0      A01       ST0001    201401  513598  457379.666667  2014\n",
       "1      A01       ST0001    201402  438251  457642.500000  2014"
      ]
     },
     "execution_count": 80,
     "metadata": {},
     "output_type": "execute_result"
    }
   ],
   "source": [
    "finalGroupResult[\"year\"] = finalGroupResult[\"yearweek\"].astype(str).str[:4]\n",
    "finalGroupResult.head(2)"
   ]
  },
  {
   "cell_type": "code",
   "execution_count": 81,
   "metadata": {},
   "outputs": [
    {
     "data": {
      "text/html": [
       "<div>\n",
       "<style scoped>\n",
       "    .dataframe tbody tr th:only-of-type {\n",
       "        vertical-align: middle;\n",
       "    }\n",
       "\n",
       "    .dataframe tbody tr th {\n",
       "        vertical-align: top;\n",
       "    }\n",
       "\n",
       "    .dataframe thead th {\n",
       "        text-align: right;\n",
       "    }\n",
       "</style>\n",
       "<table border=\"1\" class=\"dataframe\">\n",
       "  <thead>\n",
       "    <tr style=\"text-align: right;\">\n",
       "      <th></th>\n",
       "      <th>regionid</th>\n",
       "      <th>productgroup</th>\n",
       "      <th>yearweek</th>\n",
       "      <th>volume</th>\n",
       "      <th>ma</th>\n",
       "      <th>year</th>\n",
       "      <th>week</th>\n",
       "    </tr>\n",
       "  </thead>\n",
       "  <tbody>\n",
       "    <tr>\n",
       "      <th>0</th>\n",
       "      <td>A01</td>\n",
       "      <td>ST0001</td>\n",
       "      <td>201401</td>\n",
       "      <td>513598</td>\n",
       "      <td>457379.666667</td>\n",
       "      <td>2014</td>\n",
       "      <td>01</td>\n",
       "    </tr>\n",
       "    <tr>\n",
       "      <th>1</th>\n",
       "      <td>A01</td>\n",
       "      <td>ST0001</td>\n",
       "      <td>201402</td>\n",
       "      <td>438251</td>\n",
       "      <td>457642.500000</td>\n",
       "      <td>2014</td>\n",
       "      <td>02</td>\n",
       "    </tr>\n",
       "  </tbody>\n",
       "</table>\n",
       "</div>"
      ],
      "text/plain": [
       "  regionid productgroup  yearweek  volume             ma  year week\n",
       "0      A01       ST0001    201401  513598  457379.666667  2014   01\n",
       "1      A01       ST0001    201402  438251  457642.500000  2014   02"
      ]
     },
     "execution_count": 81,
     "metadata": {},
     "output_type": "execute_result"
    }
   ],
   "source": [
    "finalGroupResult[\"week\"] = finalGroupResult[\"yearweek\"].astype(str).str[4:]\n",
    "finalGroupResult.head(2)"
   ]
  },
  {
   "cell_type": "code",
   "execution_count": 83,
   "metadata": {},
   "outputs": [],
   "source": [
    "finalGroupResult.to_csv(\"./finalGroupBy.csv\")"
   ]
  },
  {
   "cell_type": "markdown",
   "metadata": {},
   "source": [
    "### 3-3. 그룹바이 함수 디버깅"
   ]
  },
  {
   "cell_type": "code",
   "execution_count": 87,
   "metadata": {
    "collapsed": true
   },
   "outputs": [],
   "source": [
    "groupData = sortedData.groupby([\"regionid\",\"productgroup\"])"
   ]
  },
  {
   "cell_type": "code",
   "execution_count": 88,
   "metadata": {},
   "outputs": [
    {
     "data": {
      "text/plain": [
       "2"
      ]
     },
     "execution_count": 88,
     "metadata": {},
     "output_type": "execute_result"
    }
   ],
   "source": [
    "len(groupData)"
   ]
  },
  {
   "cell_type": "code",
   "execution_count": 91,
   "metadata": {
    "scrolled": false
   },
   "outputs": [
    {
     "data": {
      "text/html": [
       "<div>\n",
       "<style scoped>\n",
       "    .dataframe tbody tr th:only-of-type {\n",
       "        vertical-align: middle;\n",
       "    }\n",
       "\n",
       "    .dataframe tbody tr th {\n",
       "        vertical-align: top;\n",
       "    }\n",
       "\n",
       "    .dataframe thead th {\n",
       "        text-align: right;\n",
       "    }\n",
       "</style>\n",
       "<table border=\"1\" class=\"dataframe\">\n",
       "  <thead>\n",
       "    <tr style=\"text-align: right;\">\n",
       "      <th></th>\n",
       "      <th>regionid</th>\n",
       "      <th>productgroup</th>\n",
       "      <th>yearweek</th>\n",
       "      <th>volume</th>\n",
       "    </tr>\n",
       "  </thead>\n",
       "  <tbody>\n",
       "    <tr>\n",
       "      <th>0</th>\n",
       "      <td>A01</td>\n",
       "      <td>ST0001</td>\n",
       "      <td>201401</td>\n",
       "      <td>513598</td>\n",
       "    </tr>\n",
       "    <tr>\n",
       "      <th>1</th>\n",
       "      <td>A01</td>\n",
       "      <td>ST0001</td>\n",
       "      <td>201402</td>\n",
       "      <td>438251</td>\n",
       "    </tr>\n",
       "    <tr>\n",
       "      <th>2</th>\n",
       "      <td>A01</td>\n",
       "      <td>ST0001</td>\n",
       "      <td>201403</td>\n",
       "      <td>420290</td>\n",
       "    </tr>\n",
       "    <tr>\n",
       "      <th>3</th>\n",
       "      <td>A01</td>\n",
       "      <td>ST0001</td>\n",
       "      <td>201404</td>\n",
       "      <td>458431</td>\n",
       "    </tr>\n",
       "    <tr>\n",
       "      <th>4</th>\n",
       "      <td>A01</td>\n",
       "      <td>ST0001</td>\n",
       "      <td>201405</td>\n",
       "      <td>482381</td>\n",
       "    </tr>\n",
       "  </tbody>\n",
       "</table>\n",
       "</div>"
      ],
      "text/plain": [
       "  regionid productgroup  yearweek  volume\n",
       "0      A01       ST0001    201401  513598\n",
       "1      A01       ST0001    201402  438251\n",
       "2      A01       ST0001    201403  420290\n",
       "3      A01       ST0001    201404  458431\n",
       "4      A01       ST0001    201405  482381"
      ]
     },
     "execution_count": 91,
     "metadata": {},
     "output_type": "execute_result"
    }
   ],
   "source": [
    "data = groupData.get_group(list(groupData.groups)[0])\n",
    "data.head()"
   ]
  },
  {
   "cell_type": "code",
   "execution_count": 92,
   "metadata": {
    "scrolled": true
   },
   "outputs": [
    {
     "name": "stderr",
     "output_type": "stream",
     "text": [
      "C:\\ProgramData\\Anaconda3\\lib\\site-packages\\ipykernel_launcher.py:1: SettingWithCopyWarning: \n",
      "A value is trying to be set on a copy of a slice from a DataFrame.\n",
      "Try using .loc[row_indexer,col_indexer] = value instead\n",
      "\n",
      "See the caveats in the documentation: http://pandas.pydata.org/pandas-docs/stable/indexing.html#indexing-view-versus-copy\n",
      "  \"\"\"Entry point for launching an IPython kernel.\n"
     ]
    }
   ],
   "source": [
    "data[\"ma\"] = data[\"volume\"].rolling(window = 5, center = True, min_periods=1).mean()"
   ]
  },
  {
   "cell_type": "code",
   "execution_count": 94,
   "metadata": {},
   "outputs": [
    {
     "data": {
      "text/html": [
       "<div>\n",
       "<style scoped>\n",
       "    .dataframe tbody tr th:only-of-type {\n",
       "        vertical-align: middle;\n",
       "    }\n",
       "\n",
       "    .dataframe tbody tr th {\n",
       "        vertical-align: top;\n",
       "    }\n",
       "\n",
       "    .dataframe thead th {\n",
       "        text-align: right;\n",
       "    }\n",
       "</style>\n",
       "<table border=\"1\" class=\"dataframe\">\n",
       "  <thead>\n",
       "    <tr style=\"text-align: right;\">\n",
       "      <th></th>\n",
       "      <th>regionid</th>\n",
       "      <th>productgroup</th>\n",
       "      <th>yearweek</th>\n",
       "      <th>volume</th>\n",
       "      <th>ma</th>\n",
       "    </tr>\n",
       "  </thead>\n",
       "  <tbody>\n",
       "    <tr>\n",
       "      <th>0</th>\n",
       "      <td>A01</td>\n",
       "      <td>ST0001</td>\n",
       "      <td>201401</td>\n",
       "      <td>513598</td>\n",
       "      <td>457379.666667</td>\n",
       "    </tr>\n",
       "    <tr>\n",
       "      <th>1</th>\n",
       "      <td>A01</td>\n",
       "      <td>ST0001</td>\n",
       "      <td>201402</td>\n",
       "      <td>438251</td>\n",
       "      <td>457642.500000</td>\n",
       "    </tr>\n",
       "    <tr>\n",
       "      <th>2</th>\n",
       "      <td>A01</td>\n",
       "      <td>ST0001</td>\n",
       "      <td>201403</td>\n",
       "      <td>420290</td>\n",
       "      <td>462590.200000</td>\n",
       "    </tr>\n",
       "    <tr>\n",
       "      <th>3</th>\n",
       "      <td>A01</td>\n",
       "      <td>ST0001</td>\n",
       "      <td>201404</td>\n",
       "      <td>458431</td>\n",
       "      <td>473953.000000</td>\n",
       "    </tr>\n",
       "    <tr>\n",
       "      <th>4</th>\n",
       "      <td>A01</td>\n",
       "      <td>ST0001</td>\n",
       "      <td>201405</td>\n",
       "      <td>482381</td>\n",
       "      <td>510381.200000</td>\n",
       "    </tr>\n",
       "  </tbody>\n",
       "</table>\n",
       "</div>"
      ],
      "text/plain": [
       "  regionid productgroup  yearweek  volume             ma\n",
       "0      A01       ST0001    201401  513598  457379.666667\n",
       "1      A01       ST0001    201402  438251  457642.500000\n",
       "2      A01       ST0001    201403  420290  462590.200000\n",
       "3      A01       ST0001    201404  458431  473953.000000\n",
       "4      A01       ST0001    201405  482381  510381.200000"
      ]
     },
     "execution_count": 94,
     "metadata": {},
     "output_type": "execute_result"
    }
   ],
   "source": [
    "data.head()"
   ]
  }
 ],
 "metadata": {
  "kernelspec": {
   "display_name": "Python 3",
   "language": "python",
   "name": "python3"
  },
  "language_info": {
   "codemirror_mode": {
    "name": "ipython",
    "version": 3
   },
   "file_extension": ".py",
   "mimetype": "text/x-python",
   "name": "python",
   "nbconvert_exporter": "python",
   "pygments_lexer": "ipython3",
   "version": "3.6.3"
  }
 },
 "nbformat": 4,
 "nbformat_minor": 2
}
